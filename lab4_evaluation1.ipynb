{
  "nbformat": 4,
  "nbformat_minor": 0,
  "metadata": {
    "colab": {
      "provenance": []
    },
    "kernelspec": {
      "name": "python3",
      "display_name": "Python 3"
    },
    "language_info": {
      "name": "python"
    }
  },
  "cells": [
    {
      "cell_type": "markdown",
      "source": [
        "#Evaluation_1 :: Lab_4\n",
        "***Each question contains 5 marks***\n",
        "\n",
        "1. Write a Python program using a for loop to print the multiplication table of a given number N.\n",
        "\n",
        "2. Write a Python program using a while loop to count the number of digits in a given integer N.\n",
        "\n",
        "3. A class of 10 students took a quiz. Their grades (integers in the range 0 - 100) are 98, 76, 71, 87, 83, 90, 57, 79, 82, 94. Determine the class average on the quiz.\n",
        "\n",
        "4. Write a Python program that prints numbers from 1 to 100. But for multiples of 3, print \"Fizz\"; for multiples of 5, print \"Buzz\". For numbers which are multiples of both 3 and 5, print \"FizzBuzz\". Additionally, for numbers containing the digit 3, print \"Fizz\" instead of the number, and for numbers containing the digit 5, print \"Buzz\".\n",
        "\n",
        "5. Write a Python program to print the following pattern using loops:\n",
        "\n",
        "  1\n",
        "\n",
        "  22\n",
        "\n",
        "  333\n",
        "\n",
        "  4444\n",
        "\n",
        "  55555"
      ],
      "metadata": {
        "id": "wloMgx7FV17M"
      }
    }
  ]
}