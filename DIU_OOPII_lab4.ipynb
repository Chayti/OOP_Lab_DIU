{
  "nbformat": 4,
  "nbformat_minor": 0,
  "metadata": {
    "colab": {
      "provenance": [],
      "authorship_tag": "ABX9TyP4v+3h2F4dbAoXj67NzIQh",
      "include_colab_link": true
    },
    "kernelspec": {
      "name": "python3",
      "display_name": "Python 3"
    },
    "language_info": {
      "name": "python"
    }
  },
  "cells": [
    {
      "cell_type": "markdown",
      "metadata": {
        "id": "view-in-github",
        "colab_type": "text"
      },
      "source": [
        "<a href=\"https://colab.research.google.com/github/Chayti/OOP_Lab_DIU/blob/main/DIU_OOPII_lab4.ipynb\" target=\"_parent\"><img src=\"https://colab.research.google.com/assets/colab-badge.svg\" alt=\"Open In Colab\"/></a>"
      ]
    },
    {
      "cell_type": "markdown",
      "source": [
        "# Deep Dive into sets in Python\n",
        "\n",
        "A set is a unordered group of elements, where the elements themselves are immutable.\n",
        "\n",
        "It may include elements of different types. This means you can have a group of numbers, strings, and even tuples, all in the same set!"
      ],
      "metadata": {
        "id": "jP63ZWF_NSSE"
      }
    },
    {
      "cell_type": "code",
      "execution_count": null,
      "metadata": {
        "colab": {
          "base_uri": "https://localhost:8080/"
        },
        "id": "645dEnIrDJ8_",
        "outputId": "3c7e87bf-dc82-42a2-fdad-e847fec3e281"
      },
      "outputs": [
        {
          "output_type": "stream",
          "name": "stdout",
          "text": [
            "{19, 2, 3, 13}\n",
            "[2, 3, 13, 19]\n",
            "{3, 2, 'James', 'Python'}\n",
            "['Bag', 'James', 'Mutton', 'Python']\n",
            "['Bag', 'James', 'Mutton', 'Python']\n"
          ]
        }
      ],
      "source": [
        "set1 = {19, 3, 2, 2, 13}\n",
        "print(set1)\n",
        "\n",
        "set2 = sorted({19, 3, 2, 2, 13})\n",
        "print(set2)\n",
        "\n",
        "set3 = {'James', 3, 2, 2,'Python'}\n",
        "print(set3)\n",
        "\n",
        "set4 = sorted({'James','Python','Mutton','Bag'})\n",
        "print(set4)\n",
        "\n",
        "# Will give error\n",
        "# set5 = sorted({'James', 3, 2, 2,'Python'})\n",
        "print(set5)"
      ]
    },
    {
      "cell_type": "code",
      "source": [
        "# Different types of set\n",
        "\n",
        "set1 = {False, False, True}\n",
        "print(set1)\n",
        "\n",
        "set2 = {10.0, \"Hi\", (11, 12, 13)}\n",
        "print(set2)\n",
        "\n",
        "set3 = set([11, 12, 13, 2])\n",
        "print(set3)"
      ],
      "metadata": {
        "colab": {
          "base_uri": "https://localhost:8080/"
        },
        "id": "TmlTM_PZJVbQ",
        "outputId": "82ccdd73-f806-4784-a90e-5c7a6e461d8f"
      },
      "execution_count": null,
      "outputs": [
        {
          "output_type": "stream",
          "name": "stdout",
          "text": [
            "{False, True}\n",
            "{10.0, 'Hi', (11, 12, 13)}\n",
            "{2, 11, 12, 13}\n"
          ]
        }
      ]
    },
    {
      "cell_type": "code",
      "source": [
        "# How to Modify a Set in Python\n",
        "\n",
        "# initializing a set\n",
        "a = {11, 13}\n",
        "print(a)\n",
        "\n",
        "# adding an item\n",
        "a.add(12)\n",
        "print(a)\n",
        "\n",
        "# adding multiple elements\n",
        "a.update([22, 13, 14])\n",
        "print(a)\n",
        "\n",
        "# adding list and set\n",
        "a.update([14, 15], {11, 16, 18})\n",
        "print(a)"
      ],
      "metadata": {
        "colab": {
          "base_uri": "https://localhost:8080/"
        },
        "id": "o9WLB_jPKPZE",
        "outputId": "1d34cb07-4050-43c6-8f66-62293137d19e"
      },
      "execution_count": null,
      "outputs": [
        {
          "output_type": "stream",
          "name": "stdout",
          "text": [
            "{11, 13}\n",
            "{11, 12, 13}\n",
            "{11, 12, 13, 14, 22}\n",
            "{11, 12, 13, 14, 15, 16, 18, 22}\n"
          ]
        }
      ]
    },
    {
      "cell_type": "code",
      "source": [
        "# How to Get the Length of a Set\n",
        "\n",
        "cars = {\"X\", \"Y\", \"ZZ\"}\n",
        "print(len(cars))"
      ],
      "metadata": {
        "colab": {
          "base_uri": "https://localhost:8080/"
        },
        "id": "sdSGP4wHKs6k",
        "outputId": "c5e8a0e5-4435-4065-e344-3aa2d97461c0"
      },
      "execution_count": null,
      "outputs": [
        {
          "output_type": "stream",
          "name": "stdout",
          "text": [
            "3\n"
          ]
        }
      ]
    },
    {
      "cell_type": "markdown",
      "source": [
        "# Various Set Methods"
      ],
      "metadata": {
        "id": "zXWe_wgYPefk"
      }
    },
    {
      "cell_type": "code",
      "source": [
        "x = {\"pear\", \"grapes\", \"kiwi\"}\n",
        "x.add(\"orange\") #used to add a single item to the set\n",
        "print(x)"
      ],
      "metadata": {
        "colab": {
          "base_uri": "https://localhost:8080/"
        },
        "id": "acs4Xn4xLOQs",
        "outputId": "79c4b6e1-564e-4cc8-9e48-ca584bc4ae5b"
      },
      "execution_count": null,
      "outputs": [
        {
          "output_type": "stream",
          "name": "stdout",
          "text": [
            "{'orange', 'pear', 'grapes', 'kiwi'}\n"
          ]
        }
      ]
    },
    {
      "cell_type": "code",
      "source": [
        "y = {\"mango\", \"banana\", \"apple\"}\n",
        "x.update(y) #used to update the set with union of others and itself\n",
        "print(x)"
      ],
      "metadata": {
        "id": "vwRVGtFdPcyT",
        "colab": {
          "base_uri": "https://localhost:8080/"
        },
        "outputId": "552c961c-85a7-477a-e1d3-04be7e67a430"
      },
      "execution_count": null,
      "outputs": [
        {
          "output_type": "stream",
          "name": "stdout",
          "text": [
            "{'mango', 'pear', 'kiwi', 'orange', 'banana', 'grapes', 'apple'}\n"
          ]
        }
      ]
    },
    {
      "cell_type": "code",
      "source": [
        "x = y.copy() #used to return a copy of the set\n",
        "print(x)\n",
        "\n",
        "x.clear() #used to remove all items of the set\n",
        "print(x)"
      ],
      "metadata": {
        "colab": {
          "base_uri": "https://localhost:8080/"
        },
        "id": "yuDIDau6Rkwj",
        "outputId": "fa5d2310-ee36-456d-f305-74c9d9657130"
      },
      "execution_count": null,
      "outputs": [
        {
          "output_type": "stream",
          "name": "stdout",
          "text": [
            "{'mango', 'apple', 'banana'}\n",
            "set()\n"
          ]
        }
      ]
    },
    {
      "cell_type": "code",
      "source": [
        "y.discard(\"banana\") #used to remove an item from the set. If the item is not an element, then nothing is done\n",
        "print(y)"
      ],
      "metadata": {
        "colab": {
          "base_uri": "https://localhost:8080/"
        },
        "id": "fHKj7lWWRqHz",
        "outputId": "d3ed89aa-5b01-4690-d152-64bd4c2afba1"
      },
      "execution_count": null,
      "outputs": [
        {
          "output_type": "stream",
          "name": "stdout",
          "text": [
            "{'mango', 'apple'}\n"
          ]
        }
      ]
    },
    {
      "cell_type": "code",
      "source": [
        "z = x.union(y) #used to return a new set as a union of sets\n",
        "print(x|y) #it also represents union operation\n",
        "print(z)"
      ],
      "metadata": {
        "colab": {
          "base_uri": "https://localhost:8080/"
        },
        "id": "G207dmA4Runz",
        "outputId": "b867e0c8-af74-4eb1-eb66-aca5a4aeb089"
      },
      "execution_count": null,
      "outputs": [
        {
          "output_type": "stream",
          "name": "stdout",
          "text": [
            "{'mango', 'apple'}\n",
            "{'mango', 'apple'}\n"
          ]
        }
      ]
    },
    {
      "cell_type": "code",
      "source": [
        "w = x.intersection(y) #used to return a new set as a intersection of sets\n",
        "print(x & y) #it also represents intersection operation\n",
        "print(w)"
      ],
      "metadata": {
        "colab": {
          "base_uri": "https://localhost:8080/"
        },
        "id": "kTtBS-gOR0l-",
        "outputId": "40899509-ae2f-4213-affc-acb1b5c69a69"
      },
      "execution_count": null,
      "outputs": [
        {
          "output_type": "stream",
          "name": "stdout",
          "text": [
            "set()\n",
            "set()\n"
          ]
        }
      ]
    },
    {
      "cell_type": "code",
      "source": [
        "z = x.difference(y) #used to return a new set as the difference of two or more sets\n",
        "print(x-y) #The difference between two sets is the set of all the elements in first set that are not present in the second set.\n",
        "print(z)"
      ],
      "metadata": {
        "colab": {
          "base_uri": "https://localhost:8080/"
        },
        "id": "A_He6AjyR3md",
        "outputId": "30bbac17-d3cc-4fb0-a5e5-2a2340723747"
      },
      "execution_count": null,
      "outputs": [
        {
          "output_type": "stream",
          "name": "stdout",
          "text": [
            "set()\n",
            "set()\n"
          ]
        }
      ]
    },
    {
      "cell_type": "markdown",
      "source": [
        "#Frozen Set\n",
        "A new class having the characteristics of a set in python whose items\n",
        "cannot be changes post assignment is known as Frozenset.\n",
        "\n",
        "Like tuples behave as immutable lists, frozensets behave as immutable sets.\n",
        "\n",
        "frozenset() function is used to create frozensets.\n",
        "\n",
        "As they are immutable, add and remove item methide aren’t supported."
      ],
      "metadata": {
        "id": "hEE58MkBSG3G"
      }
    },
    {
      "cell_type": "code",
      "source": [
        "#initialize frozenset a and b\n",
        "a = frozenset([11, 12, 13, 14])\n",
        "b = frozenset([23, 24, 25, 26])\n",
        "\n",
        "print(a.isdisjoint(b)) #if the intersection of two sets is null, return true\n",
        "print(a.difference(b))\n",
        "print(a|b)\n",
        "\n",
        "# a.add(10)"
      ],
      "metadata": {
        "colab": {
          "base_uri": "https://localhost:8080/"
        },
        "id": "e0MpamX1MHpk",
        "outputId": "8d55b59a-6749-42a0-91b8-1af5b8d487f4"
      },
      "execution_count": null,
      "outputs": [
        {
          "output_type": "stream",
          "name": "stdout",
          "text": [
            "True\n",
            "frozenset({11, 12, 13, 14})\n",
            "frozenset({11, 12, 13, 14, 23, 24, 25, 26})\n"
          ]
        }
      ]
    },
    {
      "cell_type": "markdown",
      "source": [
        "# Creating a Set from user Input in Python"
      ],
      "metadata": {
        "id": "n71_QW_1TJGE"
      }
    },
    {
      "cell_type": "code",
      "source": [
        "# create a set from string user input\n",
        "my_set = set(input('Enter space-separated words: ').split())\n",
        "print(my_set)\n",
        "\n",
        "#create a set from integer user input\n",
        "user_input = input('Enter space-separated integers: ')\n",
        "print(user_input)\n",
        "print(type(user_input))\n",
        "my_set = set(int(item) for item in user_input.split())\n",
        "print(my_set)"
      ],
      "metadata": {
        "colab": {
          "base_uri": "https://localhost:8080/"
        },
        "id": "lKozitqZSw31",
        "outputId": "255b5b0a-9d23-471e-891c-264177e910dc"
      },
      "execution_count": null,
      "outputs": [
        {
          "output_type": "stream",
          "name": "stdout",
          "text": [
            "Enter space-separated words: 6 10 9 3\n",
            "{'9', '6', '3', '10'}\n",
            "Enter space-separated integers: 6 10 9 3\n",
            "6 10 9 3\n",
            "<class 'str'>\n",
            "{9, 10, 3, 6}\n"
          ]
        }
      ]
    }
  ]
}