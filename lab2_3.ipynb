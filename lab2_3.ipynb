{
  "nbformat": 4,
  "nbformat_minor": 0,
  "metadata": {
    "colab": {
      "provenance": []
    },
    "kernelspec": {
      "name": "python3",
      "display_name": "Python 3"
    },
    "language_info": {
      "name": "python"
    }
  },
  "cells": [
    {
      "cell_type": "code",
      "source": [
        "# Problem_0 (a) : printing single value\n",
        "a = 5\n",
        "print(a)\n",
        "print((a))"
      ],
      "metadata": {
        "colab": {
          "base_uri": "https://localhost:8080/"
        },
        "id": "uBe5YSpjCprD",
        "outputId": "c24754c7-6c51-42c0-feeb-77587764c540"
      },
      "execution_count": 1,
      "outputs": [
        {
          "output_type": "stream",
          "name": "stdout",
          "text": [
            "5\n",
            "5\n"
          ]
        }
      ]
    },
    {
      "cell_type": "code",
      "source": [
        "# Problem_0 (b) : Assigning single value to multiple variables\n",
        "\n",
        "x=y=z=50\n",
        "print(x)\n",
        "print(y)\n",
        "print(z)"
      ],
      "metadata": {
        "colab": {
          "base_uri": "https://localhost:8080/"
        },
        "id": "crc-Jl-a8xPx",
        "outputId": "6b9b1503-ebdb-4e86-ea03-55e78e563cdd"
      },
      "execution_count": 2,
      "outputs": [
        {
          "output_type": "stream",
          "name": "stdout",
          "text": [
            "50\n",
            "50\n",
            "50\n"
          ]
        }
      ]
    },
    {
      "cell_type": "code",
      "source": [
        "# Problem_0 (c) : Assigning multiple values to multiple variables\n",
        "\n",
        "a, b, c = 5, 10, 15\n",
        "print (a)\n",
        "print (b)\n",
        "print (c)"
      ],
      "metadata": {
        "colab": {
          "base_uri": "https://localhost:8080/"
        },
        "id": "x-wDzRKf8_AT",
        "outputId": "dba2d081-7921-4edd-bc4a-a919cbf4b789"
      },
      "execution_count": 3,
      "outputs": [
        {
          "output_type": "stream",
          "name": "stdout",
          "text": [
            "5\n",
            "10\n",
            "15\n"
          ]
        }
      ]
    },
    {
      "cell_type": "code",
      "source": [
        "# Problem_0 (d) : Declaring a function with local variable\n",
        "def add():\n",
        "  # Defining local variables. They has scope only within a function\n",
        "  a = 20\n",
        "  b = 30\n",
        "  c = a + b\n",
        "  print(\"The sum is:\", c)\n",
        "\n",
        "# Calling a function\n",
        "add()"
      ],
      "metadata": {
        "colab": {
          "base_uri": "https://localhost:8080/"
        },
        "id": "bZgGG5HC97-E",
        "outputId": "7e67b93d-4cbf-49c1-9ae8-397020b9752f"
      },
      "execution_count": 4,
      "outputs": [
        {
          "output_type": "stream",
          "name": "stdout",
          "text": [
            "The sum is: 50\n"
          ]
        }
      ]
    },
    {
      "cell_type": "code",
      "source": [
        "# Problem_0 (e) : Declaring a function with global variable\n",
        "\n",
        "# Declare a variable and initialize it\n",
        "x = 101\n",
        "\n",
        "# Global variable in function\n",
        "def mainFunction():\n",
        "# printing a global variable\n",
        "  global x\n",
        "  print(x)\n",
        "  # modifying a global variable\n",
        "  x = 'Welcome To Python'\n",
        "  print(x)\n",
        "\n",
        "mainFunction()\n",
        "print(x)"
      ],
      "metadata": {
        "colab": {
          "base_uri": "https://localhost:8080/"
        },
        "id": "j3e35X2-_rrW",
        "outputId": "85dd2473-281b-4bce-c9d1-7cfd605e3ae3"
      },
      "execution_count": 5,
      "outputs": [
        {
          "output_type": "stream",
          "name": "stdout",
          "text": [
            "101\n",
            "Welcome To Python\n",
            "Welcome To Python\n"
          ]
        }
      ]
    },
    {
      "cell_type": "code",
      "source": [
        "# Problem_0 (f) : Delating a variable\n",
        "\n",
        "# Assigning a value to x\n",
        "x = 6\n",
        "print(x)\n",
        "\n",
        "# deleting a variable.\n",
        "del x\n",
        "print(x)"
      ],
      "metadata": {
        "colab": {
          "base_uri": "https://localhost:8080/",
          "height": 233
        },
        "id": "XPLnybzfA_Ge",
        "outputId": "08d25b69-ca31-48c8-acf1-15cd5c04938a"
      },
      "execution_count": 6,
      "outputs": [
        {
          "output_type": "stream",
          "name": "stdout",
          "text": [
            "6\n"
          ]
        },
        {
          "output_type": "error",
          "ename": "NameError",
          "evalue": "name 'x' is not defined",
          "traceback": [
            "\u001b[0;31m---------------------------------------------------------------------------\u001b[0m",
            "\u001b[0;31mNameError\u001b[0m                                 Traceback (most recent call last)",
            "\u001b[0;32m<ipython-input-6-4547c5f72757>\u001b[0m in \u001b[0;36m<cell line: 9>\u001b[0;34m()\u001b[0m\n\u001b[1;32m      7\u001b[0m \u001b[0;31m# deleting a variable.\u001b[0m\u001b[0;34m\u001b[0m\u001b[0;34m\u001b[0m\u001b[0m\n\u001b[1;32m      8\u001b[0m \u001b[0;32mdel\u001b[0m \u001b[0mx\u001b[0m\u001b[0;34m\u001b[0m\u001b[0;34m\u001b[0m\u001b[0m\n\u001b[0;32m----> 9\u001b[0;31m \u001b[0mprint\u001b[0m\u001b[0;34m(\u001b[0m\u001b[0mx\u001b[0m\u001b[0;34m)\u001b[0m\u001b[0;34m\u001b[0m\u001b[0;34m\u001b[0m\u001b[0m\n\u001b[0m",
            "\u001b[0;31mNameError\u001b[0m: name 'x' is not defined"
          ]
        }
      ]
    },
    {
      "cell_type": "code",
      "source": [
        "# Problem_0 (g) :\n",
        "\n",
        "# A Python program to display that we can store\n",
        "# large numbers in Python\n",
        "\n",
        "a = 10000000000000000000000000000000000000000000\n",
        "a = a + 1\n",
        "print(type(a))\n",
        "print (a)"
      ],
      "metadata": {
        "colab": {
          "base_uri": "https://localhost:8080/"
        },
        "id": "UtJBIZBpBpZm",
        "outputId": "feef56e8-4e25-4c7d-df2f-d1500e4928fc"
      },
      "execution_count": 7,
      "outputs": [
        {
          "output_type": "stream",
          "name": "stdout",
          "text": [
            "<class 'int'>\n",
            "10000000000000000000000000000000000000000001\n"
          ]
        }
      ]
    },
    {
      "cell_type": "code",
      "source": [
        "# Problem_1:\n",
        "\n",
        "a=10\n",
        "b=\"Hi Python\"\n",
        "c = 10.5\n",
        "print(type(a))\n",
        "print(type(b))\n",
        "print(type(c))\n",
        "\n",
        "d = 1+3j\n",
        "print(\"The type of d\", type(d))"
      ],
      "metadata": {
        "colab": {
          "base_uri": "https://localhost:8080/"
        },
        "id": "1xjpvEdBDbS9",
        "outputId": "c2a41da0-f513-4260-9e24-1dff273be596"
      },
      "execution_count": 8,
      "outputs": [
        {
          "output_type": "stream",
          "name": "stdout",
          "text": [
            "<class 'int'>\n",
            "<class 'str'>\n",
            "<class 'float'>\n",
            "The type of d <class 'complex'>\n"
          ]
        }
      ]
    },
    {
      "cell_type": "code",
      "source": [
        "# Problem_2 :\n",
        "\n",
        "str = \"string using double quotes\"\n",
        "print(str)\n",
        "s = '''A multiline\n",
        "string\n",
        "Closed'''\n",
        "print(s)"
      ],
      "metadata": {
        "colab": {
          "base_uri": "https://localhost:8080/"
        },
        "id": "Ku3RzEOeDpCp",
        "outputId": "8cc60fee-92f1-4f20-abdb-6575ed90d759"
      },
      "execution_count": 9,
      "outputs": [
        {
          "output_type": "stream",
          "name": "stdout",
          "text": [
            "string using double quotes\n",
            "A multiline\n",
            "string\n",
            "Closed\n"
          ]
        }
      ]
    },
    {
      "cell_type": "code",
      "source": [
        "# Problem_3 :\n",
        "\n",
        "str1 = 'hello Class' #string str1\n",
        "str2 = ' how are you' #string str2\n",
        "print (str1[0:2]) #printing first two character using slice operator\n",
        "print (str1[4]) #printing 4th character of the string\n",
        "print (str1*2) #printing the string twice\n",
        "print (str1 + str2) #printing the concatenation of str1 and str2"
      ],
      "metadata": {
        "colab": {
          "base_uri": "https://localhost:8080/"
        },
        "id": "NF76qxsGEVVV",
        "outputId": "b00d0581-6827-41e7-ae9f-9a2d5e5e3534"
      },
      "execution_count": 11,
      "outputs": [
        {
          "output_type": "stream",
          "name": "stdout",
          "text": [
            "he\n",
            "o\n",
            "hello Classhello Class\n",
            "hello Class how are you\n"
          ]
        }
      ]
    },
    {
      "cell_type": "code",
      "source": [
        "# Problem_4 :\n",
        "\n",
        "list1  = [1, \"hi\", \"Python\", 2]\n",
        "#Checking type of given list\n",
        "print(type(list1))\n",
        "\n",
        "#Printing the list1\n",
        "print (list1)\n",
        "\n",
        "# List slicing\n",
        "print (list1[3:])\n",
        "\n",
        "# List slicing\n",
        "print (list1[0:2])\n",
        "\n",
        "# List Concatenation using + operator\n",
        "print (list1 + list1)\n",
        "\n",
        "# List repetation using * operator\n",
        "print (list1 * 3)"
      ],
      "metadata": {
        "colab": {
          "base_uri": "https://localhost:8080/"
        },
        "id": "f7KaWFTbFKB-",
        "outputId": "49c9bceb-43d7-4b41-f071-88418ed0d2bb"
      },
      "execution_count": 12,
      "outputs": [
        {
          "output_type": "stream",
          "name": "stdout",
          "text": [
            "<class 'list'>\n",
            "[1, 'hi', 'Python', 2]\n",
            "[2]\n",
            "[1, 'hi']\n",
            "[1, 'hi', 'Python', 2, 1, 'hi', 'Python', 2]\n",
            "[1, 'hi', 'Python', 2, 1, 'hi', 'Python', 2, 1, 'hi', 'Python', 2]\n"
          ]
        }
      ]
    },
    {
      "cell_type": "code",
      "source": [
        "# Problem_5 :\n",
        "\n",
        "tup  = (\"hi\", \"Python\", 2)\n",
        "# Checking type of tup\n",
        "print (type(tup))\n",
        "\n",
        "#Printing the tuple\n",
        "print (tup)\n",
        "\n",
        "# Tuple slicing\n",
        "print (tup[1:])\n",
        "print (tup[0:1])\n",
        "\n",
        "# Tuple concatenation using + operator\n",
        "print (tup + tup)\n",
        "\n",
        "# Tuple repatation using * operator\n",
        "print (tup * 3)"
      ],
      "metadata": {
        "colab": {
          "base_uri": "https://localhost:8080/"
        },
        "id": "wgAdu79pFYNL",
        "outputId": "46632e69-35a7-4e79-c66e-c06a6d0864c6"
      },
      "execution_count": 13,
      "outputs": [
        {
          "output_type": "stream",
          "name": "stdout",
          "text": [
            "<class 'tuple'>\n",
            "('hi', 'Python', 2)\n",
            "('Python', 2)\n",
            "('hi',)\n",
            "('hi', 'Python', 2, 'hi', 'Python', 2)\n",
            "('hi', 'Python', 2, 'hi', 'Python', 2, 'hi', 'Python', 2)\n"
          ]
        }
      ]
    },
    {
      "cell_type": "code",
      "source": [
        "# Problem_6 :\n",
        "\n",
        "d = {1:'Jimmy', 2:'Alex', 3:'john', 4:'mike'}\n",
        "\n",
        "# Printing dictionary\n",
        "print (d)\n",
        "\n",
        "# Accesing value using keys\n",
        "print(\"1st name is \"+d[1])\n",
        "print(\"2nd name is \"+d[4])\n",
        "\n",
        "print (d.keys())\n",
        "print (d.values())"
      ],
      "metadata": {
        "colab": {
          "base_uri": "https://localhost:8080/"
        },
        "id": "5nKb4cxoF9D5",
        "outputId": "24a218d8-a0dd-48a2-cd18-f59a5d05800c"
      },
      "execution_count": 14,
      "outputs": [
        {
          "output_type": "stream",
          "name": "stdout",
          "text": [
            "{1: 'Jimmy', 2: 'Alex', 3: 'john', 4: 'mike'}\n",
            "1st name is Jimmy\n",
            "2nd name is mike\n",
            "dict_keys([1, 2, 3, 4])\n",
            "dict_values(['Jimmy', 'Alex', 'john', 'mike'])\n"
          ]
        }
      ]
    },
    {
      "cell_type": "code",
      "source": [
        "# Problem_7 : Python program to check the boolean type\n",
        "\n",
        "print(type(True))\n",
        "print(type(False))\n",
        "print(false)"
      ],
      "metadata": {
        "id": "W7YwgFmtGTjO",
        "colab": {
          "base_uri": "https://localhost:8080/",
          "height": 251
        },
        "outputId": "e424b4d1-ec6f-48a4-fe88-22a2e9eb1c2a"
      },
      "execution_count": 15,
      "outputs": [
        {
          "output_type": "stream",
          "name": "stdout",
          "text": [
            "<class 'bool'>\n",
            "<class 'bool'>\n"
          ]
        },
        {
          "output_type": "error",
          "ename": "NameError",
          "evalue": "name 'false' is not defined",
          "traceback": [
            "\u001b[0;31m---------------------------------------------------------------------------\u001b[0m",
            "\u001b[0;31mNameError\u001b[0m                                 Traceback (most recent call last)",
            "\u001b[0;32m<ipython-input-15-c2bacce62524>\u001b[0m in \u001b[0;36m<cell line: 5>\u001b[0;34m()\u001b[0m\n\u001b[1;32m      3\u001b[0m \u001b[0mprint\u001b[0m\u001b[0;34m(\u001b[0m\u001b[0mtype\u001b[0m\u001b[0;34m(\u001b[0m\u001b[0;32mTrue\u001b[0m\u001b[0;34m)\u001b[0m\u001b[0;34m)\u001b[0m\u001b[0;34m\u001b[0m\u001b[0;34m\u001b[0m\u001b[0m\n\u001b[1;32m      4\u001b[0m \u001b[0mprint\u001b[0m\u001b[0;34m(\u001b[0m\u001b[0mtype\u001b[0m\u001b[0;34m(\u001b[0m\u001b[0;32mFalse\u001b[0m\u001b[0;34m)\u001b[0m\u001b[0;34m)\u001b[0m\u001b[0;34m\u001b[0m\u001b[0;34m\u001b[0m\u001b[0m\n\u001b[0;32m----> 5\u001b[0;31m \u001b[0mprint\u001b[0m\u001b[0;34m(\u001b[0m\u001b[0mfalse\u001b[0m\u001b[0;34m)\u001b[0m\u001b[0;34m\u001b[0m\u001b[0;34m\u001b[0m\u001b[0m\n\u001b[0m",
            "\u001b[0;31mNameError\u001b[0m: name 'false' is not defined"
          ]
        }
      ]
    },
    {
      "cell_type": "code",
      "source": [
        "# Problem_8 : Sets are unique, not maintain order from ascending to descending\n",
        "\n",
        "# Creating Empty set\n",
        "set1 = set()\n",
        "\n",
        "set2 = {'James', 3, 2, 2,'Python'}\n",
        "\n",
        "#Printing Set value\n",
        "print(set2)\n",
        "\n",
        "# Adding element to the set\n",
        "\n",
        "set2.add(10)\n",
        "print(set2)\n",
        "\n",
        "#Removing element from the set\n",
        "set2.remove(2)\n",
        "print(set2)"
      ],
      "metadata": {
        "colab": {
          "base_uri": "https://localhost:8080/"
        },
        "id": "4wucpyCeGefg",
        "outputId": "cae1b18f-6b3e-49da-9fbc-888299a3a4be"
      },
      "execution_count": 22,
      "outputs": [
        {
          "output_type": "stream",
          "name": "stdout",
          "text": [
            "{'James', 2, 3, 'Python'}\n",
            "{2, 3, 10, 'James', 'Python'}\n",
            "{3, 10, 'James', 'Python'}\n"
          ]
        }
      ]
    },
    {
      "cell_type": "code",
      "source": [
        "# Problem_9 : Program to swap the values of two variables without using a temporary variable\n",
        "\n",
        "# Input values\n",
        "a = 5\n",
        "b = 10\n",
        "\n",
        "# Swapping without a temporary variable\n",
        "a, b = b, a\n",
        "\n",
        "# Display the swapped values\n",
        "print(\"After swapping:\")\n",
        "print(\"a =\", a)\n",
        "print(\"b =\", b)"
      ],
      "metadata": {
        "colab": {
          "base_uri": "https://localhost:8080/"
        },
        "id": "IxUJdzWc3smz",
        "outputId": "cba807bb-1adf-4965-a8cd-d90201ceb420"
      },
      "execution_count": 23,
      "outputs": [
        {
          "output_type": "stream",
          "name": "stdout",
          "text": [
            "After swapping:\n",
            "a = 10\n",
            "b = 5\n"
          ]
        }
      ]
    },
    {
      "cell_type": "code",
      "source": [
        "# Problem_10 : Program to check if a number is even or odd\n",
        "\n",
        "# Input from the user\n",
        "num = int(input(\"Enter an integer: \"))\n",
        "\n",
        "# Check if the number is even or odd\n",
        "if num % 2 == 0:\n",
        "    print(num, \"is even.\")\n",
        "else:\n",
        "    print(num, \"is odd.\")"
      ],
      "metadata": {
        "colab": {
          "base_uri": "https://localhost:8080/"
        },
        "id": "aucbACwq4V3R",
        "outputId": "73cadff6-f1b3-4aa3-fe95-13eeead5cc44"
      },
      "execution_count": 24,
      "outputs": [
        {
          "output_type": "stream",
          "name": "stdout",
          "text": [
            "Enter an integer: 5\n",
            "5 is odd.\n"
          ]
        }
      ]
    },
    {
      "cell_type": "code",
      "source": [
        "# Problem_11 : String Reverse: Write a Python function to reverse a given string and return the reversed string.\n",
        "\n",
        "def reverse_string(input_str):\n",
        "    # Using string slicing to reverse the string\n",
        "    # input_str[::-1] is used to reverse the string using string slicing.\n",
        "    # This syntax creates a new string with all elements in reverse order.\n",
        "    reversed_str = input_str[::-1]\n",
        "    return reversed_str\n",
        "\n",
        "# Example usage:\n",
        "input_string = \"Hello, World!\"\n",
        "result = reverse_string(input_string)\n",
        "\n",
        "print(\"Original String:\", input_string)\n",
        "print(\"Reversed String:\", result)"
      ],
      "metadata": {
        "colab": {
          "base_uri": "https://localhost:8080/"
        },
        "id": "-UFnydPg4zwm",
        "outputId": "145b609a-e056-4654-b4b3-76f40fa65b04"
      },
      "execution_count": 25,
      "outputs": [
        {
          "output_type": "stream",
          "name": "stdout",
          "text": [
            "Original String: Hello, World!\n",
            "Reversed String: !dlroW ,olleH\n"
          ]
        }
      ]
    },
    {
      "cell_type": "code",
      "source": [
        "# Problem_12 : Program to convert Celsius to Fahrenheit\n",
        "\n",
        "# Input temperature in Celsius from the user\n",
        "celsius_temperature = float(input(\"Enter temperature in Celsius: \"))\n",
        "\n",
        "# Conversion formula: Fahrenheit = (Celsius * 9/5) + 32\n",
        "fahrenheit_temperature = (celsius_temperature * 9/5) + 32\n",
        "\n",
        "# Display the converted temperature\n",
        "print(f\"{celsius_temperature} degrees Celsius is equal to {fahrenheit_temperature:.2f} degrees Fahrenheit.\")"
      ],
      "metadata": {
        "colab": {
          "base_uri": "https://localhost:8080/"
        },
        "id": "4AkZygsK8WvL",
        "outputId": "e5e8223a-77f9-4998-c96a-78f3b6cb4ce4"
      },
      "execution_count": 26,
      "outputs": [
        {
          "output_type": "stream",
          "name": "stdout",
          "text": [
            "Enter temperature in Celsius: 30\n",
            "30.0 degrees Celsius is equal to 86.00 degrees Fahrenheit.\n"
          ]
        }
      ]
    },
    {
      "cell_type": "markdown",
      "source": [
        "SymPy http://www.sympy.org is a Python library for symbolic math.\n",
        "\n",
        "In symbolic math, symbols are used to represent mathematical expressions. An example of a symbolic math expression is below.\n",
        "x2+y2=z\n"
      ],
      "metadata": {
        "id": "rjhmtYDHIsFe"
      }
    },
    {
      "cell_type": "code",
      "execution_count": 27,
      "metadata": {
        "colab": {
          "base_uri": "https://localhost:8080/"
        },
        "id": "Wjh6WPKB-8nQ",
        "outputId": "db83ebda-5289-4684-ac05-66c8c151476f"
      },
      "outputs": [
        {
          "output_type": "execute_result",
          "data": {
            "text/plain": [
              "[6]"
            ]
          },
          "metadata": {},
          "execution_count": 27
        }
      ],
      "source": [
        "# Problem_13\n",
        "\n",
        "from sympy import symbols, solve\n",
        "\n",
        "# defining variables\n",
        "x = symbols('x')\n",
        "expr = x-4-2\n",
        "\n",
        "sol = solve(expr)\n",
        "sol\n"
      ]
    },
    {
      "cell_type": "code",
      "source": [
        "# Problem_14\n",
        "\n",
        "y = symbols('y')\n",
        "eq1 = y + 3 + 8\n",
        "\n",
        "sol = solve(eq1)\n",
        "sol"
      ],
      "metadata": {
        "colab": {
          "base_uri": "https://localhost:8080/"
        },
        "id": "x5u_JELKyYBs",
        "outputId": "0a40fa8e-6a27-4ef7-d64f-32a2c1922982"
      },
      "execution_count": 28,
      "outputs": [
        {
          "output_type": "execute_result",
          "data": {
            "text/plain": [
              "[-11]"
            ]
          },
          "metadata": {},
          "execution_count": 28
        }
      ]
    }
  ]
}